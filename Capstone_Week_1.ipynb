{
    "cells": [
        {
            "cell_type": "markdown",
            "metadata": {},
            "source": "# Capstone Project - Week 1"
        },
        {
            "cell_type": "markdown",
            "metadata": {
                "collapsed": true
            },
            "source": "## 1) Description of the Project"
        },
        {
            "cell_type": "markdown",
            "metadata": {},
            "source": "This project explores specific restaurants with Turkish or Ottoman cusine and related opportunities in New York City. I assume that an investor wants to open up a Turkish restaurant in NYC. NYC is such a diverse metropolitan city with great potential for a restaurant both by the locals and the tourists. However, because it is a very risky and costly investment, making the right choice is very important, especially based on the data.\n\nFor this investor, first thing to do should be getting detailed info on the existing Turkish restaurants. Therefore, this project will focus on exploring the existing Turkish restaurants in NYC.\n\nThe audience for this project is \nAs a side note, sometimes opening a business far from your competitors is a great opportinity; however, it is just the vice versa in some cases meaning opening an exact same business next to a competitor will help you AND your competitor because it creates an area of attraction. Nonetheless, this comes in the later stages of the decision process. I will first focus on the first phase of the decision process which is exploring."
        },
        {
            "cell_type": "markdown",
            "metadata": {},
            "source": "## 2) A Description of the Data and How It will be Used "
        },
        {
            "cell_type": "markdown",
            "metadata": {},
            "source": "For this project, I will basically use two sources:\n\na) The first source comes in handy (I must take things easy for now as I am still learning) and it is the list previously provided by coursera instructor: New York City data which contains list Boroughs, Neighborhoods along with their latitude and longitude.\n\nb) To be able to reach the restaurants and their detailed information I will use foursquare API source.\n\nWith the first list, I will be able to categorize things geografically and visually, and with foursquare data I will be able to explore the opportunities and the very fine details of the restaurants. First source will also help me analyze the parts of the city where Turkish restaurants are not present."
        }
    ],
    "metadata": {
        "kernelspec": {
            "display_name": "Python 3.6",
            "language": "python",
            "name": "python3"
        },
        "language_info": {
            "codemirror_mode": {
                "name": "ipython",
                "version": 3
            },
            "file_extension": ".py",
            "mimetype": "text/x-python",
            "name": "python",
            "nbconvert_exporter": "python",
            "pygments_lexer": "ipython3",
            "version": "3.6.8"
        }
    },
    "nbformat": 4,
    "nbformat_minor": 1
}